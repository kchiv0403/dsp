{
 "cells": [
  {
   "cell_type": "markdown",
   "metadata": {},
   "source": [
    "I will be primarily using the modules provided by the author of ThinkStats2 to maintain consistency.<br>\n",
    "The modules and data needed for this exercise are included in the same directory as this file."
   ]
  },
  {
   "cell_type": "code",
   "execution_count": 5,
   "metadata": {},
   "outputs": [],
   "source": [
    "from __future__ import print_function, division\n",
    "\n",
    "%matplotlib inline\n",
    "\n",
    "import numpy as np\n",
    "import scipy.stats\n",
    "\n",
    "import nsfg\n",
    "import first\n",
    "import thinkstats2\n",
    "import thinkplot"
   ]
  },
  {
   "cell_type": "markdown",
   "metadata": {},
   "source": [
    "In this exercise, we are trying to find what percentage of the U.S. male population is between 5'10 and 6'1, which is the height range required to join the Blue Man Group. We start by generating a normal distribution using the mu and sigma given by the author. "
   ]
  },
  {
   "cell_type": "code",
   "execution_count": 16,
   "metadata": {},
   "outputs": [],
   "source": [
    "mu = 178\n",
    "sigma = 7.7\n",
    "dist = scipy.stats.norm(loc=mu, scale=sigma)"
   ]
  },
  {
   "cell_type": "markdown",
   "metadata": {},
   "source": [
    "We need to convert our height requirements from feet and inches to centimeters since our distribution is in centimeters."
   ]
  },
  {
   "cell_type": "code",
   "execution_count": 13,
   "metadata": {},
   "outputs": [],
   "source": [
    "low = dist.cdf(177.8)    # 5'10 converted to cm\n",
    "high = dist.cdf(185.4)   # 6'1 converted to cm"
   ]
  },
  {
   "cell_type": "markdown",
   "metadata": {},
   "source": [
    "By subtracting the two percentiles, low and high, from each other, we have the percentage of the U.S. male population that is in this range."
   ]
  },
  {
   "cell_type": "code",
   "execution_count": 23,
   "metadata": {},
   "outputs": [
    {
     "name": "stdout",
     "output_type": "stream",
     "text": [
      "Percentile for Low: 48.96390278648327%\n",
      "Percentile for High: 83.17337108107857%\n",
      "Diffference Between Percentiles: 34.20946829459531%\n"
     ]
    }
   ],
   "source": [
    "print('Percentile for Low: ' + str(low * 100) + '%\\n' \n",
    "          + 'Percentile for High: ' + str(high * 100) + '%\\n' \n",
    "          + 'Diffference Between Percentiles: ' + str((high-low)*100) + '%')"
   ]
  },
  {
   "cell_type": "code",
   "execution_count": null,
   "metadata": {},
   "outputs": [],
   "source": []
  }
 ],
 "metadata": {
  "kernelspec": {
   "display_name": "Python 3",
   "language": "python",
   "name": "python3"
  },
  "language_info": {
   "codemirror_mode": {
    "name": "ipython",
    "version": 3
   },
   "file_extension": ".py",
   "mimetype": "text/x-python",
   "name": "python",
   "nbconvert_exporter": "python",
   "pygments_lexer": "ipython3",
   "version": "3.5.2"
  }
 },
 "nbformat": 4,
 "nbformat_minor": 2
}
